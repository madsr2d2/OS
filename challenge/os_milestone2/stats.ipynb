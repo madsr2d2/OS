{
 "cells": [
  {
   "cell_type": "code",
   "execution_count": 4,
   "metadata": {
    "vscode": {
     "languageId": "r"
    }
   },
   "outputs": [
    {
     "data": {
      "text/html": [
       "167547245.8"
      ],
      "text/latex": [
       "167547245.8"
      ],
      "text/markdown": [
       "167547245.8"
      ],
      "text/plain": [
       "[1] 167547246"
      ]
     },
     "metadata": {},
     "output_type": "display_data"
    },
    {
     "data": {
      "text/plain": [
       "\n",
       "\tOne Sample t-test\n",
       "\n",
       "data:  extended_score\n",
       "t = 288.36, df = 4, p-value = 8.678e-10\n",
       "alternative hypothesis: true mean is not equal to 0\n",
       "95 percent confidence interval:\n",
       " 165934007 169160485\n",
       "sample estimates:\n",
       "mean of x \n",
       "167547246 \n"
      ]
     },
     "metadata": {},
     "output_type": "display_data"
    },
    {
     "data": {
      "text/html": [
       "1299255.86455313"
      ],
      "text/latex": [
       "1299255.86455313"
      ],
      "text/markdown": [
       "1299255.86455313"
      ],
      "text/plain": [
       "[1] 1299256"
      ]
     },
     "metadata": {},
     "output_type": "display_data"
    },
    {
     "data": {
      "text/html": [
       "581044.886661211"
      ],
      "text/latex": [
       "581044.886661211"
      ],
      "text/markdown": [
       "581044.886661211"
      ],
      "text/plain": [
       "[1] 581044.9"
      ]
     },
     "metadata": {},
     "output_type": "display_data"
    }
   ],
   "source": [
    "# Extended server\n",
    "extended_score <- c(169695614, 167702872, 166960341, 167072043, 166305359)\n",
    "\n",
    "# mean of extended server\n",
    "mean(extended_score)\n",
    "\n",
    "# 95% confidence interval of extended server\n",
    "t.test(extended_score)\n",
    "\n",
    "# standard deviation of extended server\n",
    "sd(extended_score)\n",
    "\n",
    "# standard error of extended server\n",
    "sd(extended_score)/sqrt(length(extended_score))"
   ]
  },
  {
   "cell_type": "code",
   "execution_count": 5,
   "metadata": {
    "vscode": {
     "languageId": "r"
    }
   },
   "outputs": [
    {
     "data": {
      "text/html": [
       "160606545"
      ],
      "text/latex": [
       "160606545"
      ],
      "text/markdown": [
       "160606545"
      ],
      "text/plain": [
       "[1] 160606545"
      ]
     },
     "metadata": {},
     "output_type": "display_data"
    },
    {
     "data": {
      "text/plain": [
       "\n",
       "\tOne Sample t-test\n",
       "\n",
       "data:  single_score\n",
       "t = 85.216, df = 4, p-value = 1.137e-07\n",
       "alternative hypothesis: true mean is not equal to 0\n",
       "95 percent confidence interval:\n",
       " 155373752 165839338\n",
       "sample estimates:\n",
       "mean of x \n",
       "160606545 \n"
      ]
     },
     "metadata": {},
     "output_type": "display_data"
    },
    {
     "data": {
      "text/html": [
       "4214338.70692817"
      ],
      "text/latex": [
       "4214338.70692817"
      ],
      "text/markdown": [
       "4214338.70692817"
      ],
      "text/plain": [
       "[1] 4214339"
      ]
     },
     "metadata": {},
     "output_type": "display_data"
    },
    {
     "data": {
      "text/html": [
       "1884709.56577999"
      ],
      "text/latex": [
       "1884709.56577999"
      ],
      "text/markdown": [
       "1884709.56577999"
      ],
      "text/plain": [
       "[1] 1884710"
      ]
     },
     "metadata": {},
     "output_type": "display_data"
    }
   ],
   "source": [
    "# Single thread server\n",
    "\n",
    "single_score <- c(167180382, 161319866, 156666357, 160692642, 157173478)\n",
    "\n",
    "# mean of single thread server\n",
    "mean(single_score)\n",
    "\n",
    "# 95% confidence interval of single thread server\n",
    "t.test(single_score)\n",
    "\n",
    "# standard deviation of single thread server\n",
    "sd(single_score)\n",
    "\n",
    "# standard error of single thread server\n",
    "sd(single_score)/sqrt(length(single_score))\n",
    "\n"
   ]
  },
  {
   "cell_type": "code",
   "execution_count": 6,
   "metadata": {
    "vscode": {
     "languageId": "r"
    }
   },
   "outputs": [
    {
     "data": {
      "text/plain": [
       "\n",
       "\tWelch Two Sample t-test\n",
       "\n",
       "data:  extended_score and single_score\n",
       "t = 3.5192, df = 4.7536, p-value = 0.01841\n",
       "alternative hypothesis: true difference in means is not equal to 0\n",
       "95 percent confidence interval:\n",
       "  1790802 12090599\n",
       "sample estimates:\n",
       "mean of x mean of y \n",
       "167547246 160606545 \n"
      ]
     },
     "metadata": {},
     "output_type": "display_data"
    },
    {
     "data": {
      "text/html": [
       "6940700.80000001"
      ],
      "text/latex": [
       "6940700.80000001"
      ],
      "text/markdown": [
       "6940700.80000001"
      ],
      "text/plain": [
       "[1] 6940701"
      ]
     },
     "metadata": {},
     "output_type": "display_data"
    }
   ],
   "source": [
    "# Independent t-test\n",
    "t.test(extended_score, single_score, alternative = \"two.sided\", mu = 0)\n",
    "\n",
    "mean(extended_score) - mean(single_score)"
   ]
  }
 ],
 "metadata": {
  "kernelspec": {
   "display_name": "R",
   "language": "R",
   "name": "ir"
  },
  "language_info": {
   "codemirror_mode": "r",
   "file_extension": ".r",
   "mimetype": "text/x-r-source",
   "name": "R",
   "pygments_lexer": "r",
   "version": "4.0.4"
  }
 },
 "nbformat": 4,
 "nbformat_minor": 2
}
